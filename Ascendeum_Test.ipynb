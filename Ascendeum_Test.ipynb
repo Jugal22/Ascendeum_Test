{
  "nbformat": 4,
  "nbformat_minor": 0,
  "metadata": {
    "colab": {
      "provenance": []
    },
    "kernelspec": {
      "name": "python3",
      "display_name": "Python 3"
    },
    "language_info": {
      "name": "python"
    }
  },
  "cells": [
    {
      "cell_type": "code",
      "execution_count": 1,
      "metadata": {
        "id": "nU20oZsfsBsP"
      },
      "outputs": [],
      "source": [
        "# nxn matrix with 1 to n(1)"
      ]
    },
    {
      "cell_type": "code",
      "source": [
        "def gen_sprial_matrix(n):\n",
        "  matrix = [[0]*n for value in range(n)]\n",
        "\n",
        "  # borders\n",
        "  top, bottom, left, right = 0, n-1, 0, n-1\n",
        "\n",
        "  # initiate the counter\n",
        "  num = 1\n",
        "\n",
        "  # filling top rows from left to right\n",
        "  while top<=bottom and left<=right:\n",
        "    for j in range(left, right+1):\n",
        "      matrix[top][j] = num\n",
        "      num = num+1\n",
        "    top = top+1\n",
        "\n",
        "    # filling right column top->bottom\n",
        "    for i in range(top,bottom+1):\n",
        "      matrix[i][right] = num\n",
        "      num = num+1\n",
        "    right = right-1\n",
        "\n",
        "    # fill bottom row (right->left)\n",
        "    if top<=bottom:\n",
        "      for j in range(right, left-1,-1):\n",
        "        matrix[bottom][j]= num\n",
        "        num = num+1\n",
        "      bottom = bottom-1\n",
        "\n",
        "    # fill left column (bottom->top)\n",
        "    # identation error\n",
        "    if left<=right:\n",
        "        for i in range(bottom, top-1,-1):\n",
        "          matrix[i][left]= num\n",
        "          num = num+1\n",
        "        left = left+1\n",
        "\n",
        "  return matrix\n"
      ],
      "metadata": {
        "id": "jBJwyyNdsc7v"
      },
      "execution_count": 12,
      "outputs": []
    },
    {
      "cell_type": "code",
      "source": [
        "result = gen_sprial_matrix(5)\n",
        "for row in result:\n",
        "  print(row)"
      ],
      "metadata": {
        "colab": {
          "base_uri": "https://localhost:8080/"
        },
        "id": "9xdZx8JnvBFl",
        "outputId": "1db5936d-2699-4a02-da75-a69187a93c20"
      },
      "execution_count": 14,
      "outputs": [
        {
          "output_type": "stream",
          "name": "stdout",
          "text": [
            "[1, 2, 3, 4, 5]\n",
            "[16, 17, 18, 19, 6]\n",
            "[15, 24, 25, 20, 7]\n",
            "[14, 23, 22, 21, 8]\n",
            "[13, 12, 11, 10, 9]\n"
          ]
        }
      ]
    },
    {
      "cell_type": "code",
      "source": [],
      "metadata": {
        "id": "9cdeCUYCvHBW"
      },
      "execution_count": null,
      "outputs": []
    }
  ]
}